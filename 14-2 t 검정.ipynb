{
 "cells": [
  {
   "cell_type": "code",
   "execution_count": 16,
   "id": "b753d29f-1150-4dbb-9305-6df2d18692d4",
   "metadata": {},
   "outputs": [],
   "source": [
    "import pandas as pd\n",
    "mpg = pd.read_csv('mpg.csv')"
   ]
  },
  {
   "cell_type": "code",
   "execution_count": 18,
   "id": "57022cf1-9e30-4f3d-adc7-1b21ebeddd9b",
   "metadata": {},
   "outputs": [
    {
     "data": {
      "text/html": [
       "<div>\n",
       "<style scoped>\n",
       "    .dataframe tbody tr th:only-of-type {\n",
       "        vertical-align: middle;\n",
       "    }\n",
       "\n",
       "    .dataframe tbody tr th {\n",
       "        vertical-align: top;\n",
       "    }\n",
       "\n",
       "    .dataframe thead th {\n",
       "        text-align: right;\n",
       "    }\n",
       "</style>\n",
       "<table border=\"1\" class=\"dataframe\">\n",
       "  <thead>\n",
       "    <tr style=\"text-align: right;\">\n",
       "      <th></th>\n",
       "      <th>category</th>\n",
       "      <th>n</th>\n",
       "      <th>mean</th>\n",
       "    </tr>\n",
       "  </thead>\n",
       "  <tbody>\n",
       "    <tr>\n",
       "      <th>0</th>\n",
       "      <td>compact</td>\n",
       "      <td>47</td>\n",
       "      <td>20.12766</td>\n",
       "    </tr>\n",
       "    <tr>\n",
       "      <th>1</th>\n",
       "      <td>suv</td>\n",
       "      <td>62</td>\n",
       "      <td>13.50000</td>\n",
       "    </tr>\n",
       "  </tbody>\n",
       "</table>\n",
       "</div>"
      ],
      "text/plain": [
       "  category   n      mean\n",
       "0  compact  47  20.12766\n",
       "1      suv  62  13.50000"
      ]
     },
     "execution_count": 18,
     "metadata": {},
     "output_type": "execute_result"
    }
   ],
   "source": [
    "#기술 통계 분석\n",
    "mpg.query('category in [\"compact\", \"suv\"]')\\\n",
    ".groupby('category', as_index = False)\\\n",
    ".agg(n = ('category', 'count'), mean = ('cty','mean'))"
   ]
  },
  {
   "cell_type": "code",
   "execution_count": 20,
   "id": "593aed98-fcc5-44be-b2da-41938c4e367d",
   "metadata": {},
   "outputs": [],
   "source": [
    "compact = mpg.query('category == \"compact\"')['cty']\n",
    "suv = mpg.query('category == \"suv\"')['cty']"
   ]
  },
  {
   "cell_type": "code",
   "execution_count": 22,
   "id": "31409a98-8b70-4464-ab80-0e4e1e96ef76",
   "metadata": {},
   "outputs": [
    {
     "data": {
      "text/plain": [
       "TtestResult(statistic=11.917282584324107, pvalue=2.3909550904711286e-21, df=107.0)"
      ]
     },
     "execution_count": 22,
     "metadata": {},
     "output_type": "execute_result"
    }
   ],
   "source": [
    "#t-test\n",
    "from scipy import stats\n",
    "stats.ttest_ind(compact, suv, equal_var = True)"
   ]
  },
  {
   "cell_type": "code",
   "execution_count": 26,
   "id": "ebf0f710-cf2b-4d69-a35a-103ff69ed2b2",
   "metadata": {},
   "outputs": [
    {
     "data": {
      "text/html": [
       "<div>\n",
       "<style scoped>\n",
       "    .dataframe tbody tr th:only-of-type {\n",
       "        vertical-align: middle;\n",
       "    }\n",
       "\n",
       "    .dataframe tbody tr th {\n",
       "        vertical-align: top;\n",
       "    }\n",
       "\n",
       "    .dataframe thead th {\n",
       "        text-align: right;\n",
       "    }\n",
       "</style>\n",
       "<table border=\"1\" class=\"dataframe\">\n",
       "  <thead>\n",
       "    <tr style=\"text-align: right;\">\n",
       "      <th></th>\n",
       "      <th>fl</th>\n",
       "      <th>n</th>\n",
       "      <th>mean</th>\n",
       "    </tr>\n",
       "  </thead>\n",
       "  <tbody>\n",
       "    <tr>\n",
       "      <th>0</th>\n",
       "      <td>p</td>\n",
       "      <td>52</td>\n",
       "      <td>17.365385</td>\n",
       "    </tr>\n",
       "    <tr>\n",
       "      <th>1</th>\n",
       "      <td>r</td>\n",
       "      <td>168</td>\n",
       "      <td>16.738095</td>\n",
       "    </tr>\n",
       "  </tbody>\n",
       "</table>\n",
       "</div>"
      ],
      "text/plain": [
       "  fl    n       mean\n",
       "0  p   52  17.365385\n",
       "1  r  168  16.738095"
      ]
     },
     "execution_count": 26,
     "metadata": {},
     "output_type": "execute_result"
    }
   ],
   "source": [
    "#기술 통계 분석\n",
    "mpg.query('fl in [\"r\", \"p\"]')\\\n",
    ".groupby('fl', as_index = False)\\\n",
    ".agg(n = ('fl', 'count'),\n",
    "    mean = ('cty','mean' ))"
   ]
  },
  {
   "cell_type": "code",
   "execution_count": 30,
   "id": "19a40ed3-e26e-4484-8725-ccf4e8e67471",
   "metadata": {},
   "outputs": [
    {
     "data": {
      "text/plain": [
       "TtestResult(statistic=-1.066182514588919, pvalue=0.28752051088667024, df=218.0)"
      ]
     },
     "execution_count": 30,
     "metadata": {},
     "output_type": "execute_result"
    }
   ],
   "source": [
    "regular = mpg.query('fl == \"r\"')['cty']\n",
    "premium = mpg.query('fl == \"p\"')['cty']\n",
    "\n",
    "#t-test\n",
    "stats.ttest_ind(regular, premium, equal_var = True)"
   ]
  }
 ],
 "metadata": {
  "kernelspec": {
   "display_name": "Python 3 (ipykernel)",
   "language": "python",
   "name": "python3"
  },
  "language_info": {
   "codemirror_mode": {
    "name": "ipython",
    "version": 3
   },
   "file_extension": ".py",
   "mimetype": "text/x-python",
   "name": "python",
   "nbconvert_exporter": "python",
   "pygments_lexer": "ipython3",
   "version": "3.12.4"
  }
 },
 "nbformat": 4,
 "nbformat_minor": 5
}
