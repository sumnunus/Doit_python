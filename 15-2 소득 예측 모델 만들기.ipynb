{
 "cells": [
  {
   "cell_type": "code",
   "execution_count": 116,
   "id": "a49be58a-666d-4ed9-8c19-9e817e9c968c",
   "metadata": {},
   "outputs": [
    {
     "name": "stdout",
     "output_type": "stream",
     "text": [
      "<class 'pandas.core.frame.DataFrame'>\n",
      "RangeIndex: 48842 entries, 0 to 48841\n",
      "Data columns (total 15 columns):\n",
      " #   Column          Non-Null Count  Dtype \n",
      "---  ------          --------------  ----- \n",
      " 0   age             48842 non-null  int64 \n",
      " 1   workclass       48842 non-null  object\n",
      " 2   fnlwgt          48842 non-null  int64 \n",
      " 3   education       48842 non-null  object\n",
      " 4   education_num   48842 non-null  int64 \n",
      " 5   marital_status  48842 non-null  object\n",
      " 6   occupation      48842 non-null  object\n",
      " 7   relationship    48842 non-null  object\n",
      " 8   race            48842 non-null  object\n",
      " 9   sex             48842 non-null  object\n",
      " 10  capital_gain    48842 non-null  int64 \n",
      " 11  capital_loss    48842 non-null  int64 \n",
      " 12  hours_per_week  48842 non-null  int64 \n",
      " 13  native_country  48842 non-null  object\n",
      " 14  income          48842 non-null  object\n",
      "dtypes: int64(6), object(9)\n",
      "memory usage: 5.6+ MB\n"
     ]
    }
   ],
   "source": [
    "import pandas as pd\n",
    "df = pd.read_csv('adult.csv')\n",
    "df.info()"
   ]
  },
  {
   "cell_type": "code",
   "execution_count": 118,
   "id": "cab301ce-126a-406a-83f1-53e822ee6a75",
   "metadata": {},
   "outputs": [
    {
     "data": {
      "text/plain": [
       "income\n",
       "<=50K    0.760718\n",
       ">50K     0.239282\n",
       "Name: proportion, dtype: float64"
      ]
     },
     "execution_count": 118,
     "metadata": {},
     "output_type": "execute_result"
    }
   ],
   "source": [
    "df['income'].value_counts(normalize=True)"
   ]
  },
  {
   "cell_type": "code",
   "execution_count": 120,
   "id": "e1249a5f-e579-400a-8263-b2b05fb1a86e",
   "metadata": {},
   "outputs": [
    {
     "data": {
      "text/plain": [
       "income\n",
       "low     0.760718\n",
       "high    0.239282\n",
       "Name: proportion, dtype: float64"
      ]
     },
     "execution_count": 120,
     "metadata": {},
     "output_type": "execute_result"
    }
   ],
   "source": [
    "import numpy as np\n",
    "df['income'] = np.where(df['income'] == '>50K', 'high', 'low')\n",
    "df['income'].value_counts(normalize = True)"
   ]
  },
  {
   "cell_type": "code",
   "execution_count": 122,
   "id": "9b10ac2d-be6c-4f8d-bd82-6fe90cb5d609",
   "metadata": {},
   "outputs": [],
   "source": [
    "df = df.drop(columns = 'fnlwgt')"
   ]
  },
  {
   "cell_type": "code",
   "execution_count": 124,
   "id": "b22d2e43-15fb-427c-a6b0-84afc803500e",
   "metadata": {},
   "outputs": [
    {
     "name": "stdout",
     "output_type": "stream",
     "text": [
      "<class 'pandas.core.frame.DataFrame'>\n",
      "RangeIndex: 48842 entries, 0 to 48841\n",
      "Data columns (total 1 columns):\n",
      " #   Column  Non-Null Count  Dtype \n",
      "---  ------  --------------  ----- \n",
      " 0   sex     48842 non-null  object\n",
      "dtypes: object(1)\n",
      "memory usage: 381.7+ KB\n"
     ]
    }
   ],
   "source": [
    "df_tmp = df[['sex']]\n",
    "df_tmp.info()"
   ]
  },
  {
   "cell_type": "code",
   "execution_count": 126,
   "id": "7e422720-03b7-4a68-8608-cee27d50f826",
   "metadata": {},
   "outputs": [
    {
     "data": {
      "text/plain": [
       "sex\n",
       "Male      32650\n",
       "Female    16192\n",
       "Name: count, dtype: int64"
      ]
     },
     "execution_count": 126,
     "metadata": {},
     "output_type": "execute_result"
    }
   ],
   "source": [
    "df_tmp['sex'].value_counts()"
   ]
  },
  {
   "cell_type": "code",
   "execution_count": 128,
   "id": "6853e8d6-f6d9-4f10-9f77-2671f82ab000",
   "metadata": {},
   "outputs": [
    {
     "name": "stdout",
     "output_type": "stream",
     "text": [
      "<class 'pandas.core.frame.DataFrame'>\n",
      "RangeIndex: 48842 entries, 0 to 48841\n",
      "Data columns (total 2 columns):\n",
      " #   Column      Non-Null Count  Dtype\n",
      "---  ------      --------------  -----\n",
      " 0   sex_Female  48842 non-null  uint8\n",
      " 1   sex_Male    48842 non-null  uint8\n",
      "dtypes: uint8(2)\n",
      "memory usage: 95.5 KB\n"
     ]
    }
   ],
   "source": [
    "#df_tmp의 문자 타입 변수에 원핫 인코딩 적용\n",
    "df_tmp = pd.get_dummies(df_tmp, dtype='uint8')\n",
    "df_tmp.info()"
   ]
  },
  {
   "cell_type": "code",
   "execution_count": 130,
   "id": "dcfa9c79-c267-4071-b716-c1d9487d9405",
   "metadata": {},
   "outputs": [
    {
     "data": {
      "text/html": [
       "<div>\n",
       "<style scoped>\n",
       "    .dataframe tbody tr th:only-of-type {\n",
       "        vertical-align: middle;\n",
       "    }\n",
       "\n",
       "    .dataframe tbody tr th {\n",
       "        vertical-align: top;\n",
       "    }\n",
       "\n",
       "    .dataframe thead th {\n",
       "        text-align: right;\n",
       "    }\n",
       "</style>\n",
       "<table border=\"1\" class=\"dataframe\">\n",
       "  <thead>\n",
       "    <tr style=\"text-align: right;\">\n",
       "      <th></th>\n",
       "      <th>sex_Female</th>\n",
       "      <th>sex_Male</th>\n",
       "    </tr>\n",
       "  </thead>\n",
       "  <tbody>\n",
       "    <tr>\n",
       "      <th>0</th>\n",
       "      <td>0</td>\n",
       "      <td>1</td>\n",
       "    </tr>\n",
       "    <tr>\n",
       "      <th>1</th>\n",
       "      <td>0</td>\n",
       "      <td>1</td>\n",
       "    </tr>\n",
       "    <tr>\n",
       "      <th>2</th>\n",
       "      <td>0</td>\n",
       "      <td>1</td>\n",
       "    </tr>\n",
       "    <tr>\n",
       "      <th>3</th>\n",
       "      <td>0</td>\n",
       "      <td>1</td>\n",
       "    </tr>\n",
       "    <tr>\n",
       "      <th>4</th>\n",
       "      <td>1</td>\n",
       "      <td>0</td>\n",
       "    </tr>\n",
       "  </tbody>\n",
       "</table>\n",
       "</div>"
      ],
      "text/plain": [
       "   sex_Female  sex_Male\n",
       "0           0         1\n",
       "1           0         1\n",
       "2           0         1\n",
       "3           0         1\n",
       "4           1         0"
      ]
     },
     "execution_count": 130,
     "metadata": {},
     "output_type": "execute_result"
    }
   ],
   "source": [
    "df_tmp[['sex_Female', 'sex_Male']].head()"
   ]
  },
  {
   "cell_type": "code",
   "execution_count": 146,
   "id": "f2ba5f64-3a55-4e78-bce6-ea914654502c",
   "metadata": {},
   "outputs": [
    {
     "name": "stdout",
     "output_type": "stream",
     "text": [
      "<class 'pandas.core.frame.DataFrame'>\n",
      "RangeIndex: 48842 entries, 0 to 48841\n",
      "Columns: 108 entries, age to income\n",
      "dtypes: bool(102), int64(5), object(1)\n",
      "memory usage: 7.0+ MB\n"
     ]
    }
   ],
   "source": [
    "target = df['income']  # 타깃 변수 저장\n",
    "df = df.drop(columns='income')  # 타깃 변수 제거\n",
    "\n",
    "df = pd.get_dummies(df, dtype='uint8')  # 원핫 인코딩 실행\n",
    "\n",
    "df['income'] = target  # 타깃 변수 복원\n",
    "df.info()"
   ]
  },
  {
   "cell_type": "code",
   "execution_count": 148,
   "id": "0ca22f1e-acb2-4020-9a7e-a6576a11153b",
   "metadata": {},
   "outputs": [
    {
     "name": "stdout",
     "output_type": "stream",
     "text": [
      "<class 'pandas.core.frame.DataFrame'>\n",
      "RangeIndex: 48842 entries, 0 to 48841\n",
      "Data columns (total 108 columns):\n",
      " #    Column                                     Non-Null Count  Dtype \n",
      "---   ------                                     --------------  ----- \n",
      " 0    age                                        48842 non-null  int64 \n",
      " 1    education_num                              48842 non-null  int64 \n",
      " 2    capital_gain                               48842 non-null  int64 \n",
      " 3    capital_loss                               48842 non-null  int64 \n",
      " 4    hours_per_week                             48842 non-null  int64 \n",
      " 5    workclass_?                                48842 non-null  bool  \n",
      " 6    workclass_Federal-gov                      48842 non-null  bool  \n",
      " 7    workclass_Local-gov                        48842 non-null  bool  \n",
      " 8    workclass_Never-worked                     48842 non-null  bool  \n",
      " 9    workclass_Private                          48842 non-null  bool  \n",
      " 10   workclass_Self-emp-inc                     48842 non-null  bool  \n",
      " 11   workclass_Self-emp-not-inc                 48842 non-null  bool  \n",
      " 12   workclass_State-gov                        48842 non-null  bool  \n",
      " 13   workclass_Without-pay                      48842 non-null  bool  \n",
      " 14   education_10th                             48842 non-null  bool  \n",
      " 15   education_11th                             48842 non-null  bool  \n",
      " 16   education_12th                             48842 non-null  bool  \n",
      " 17   education_1st-4th                          48842 non-null  bool  \n",
      " 18   education_5th-6th                          48842 non-null  bool  \n",
      " 19   education_7th-8th                          48842 non-null  bool  \n",
      " 20   education_9th                              48842 non-null  bool  \n",
      " 21   education_Assoc-acdm                       48842 non-null  bool  \n",
      " 22   education_Assoc-voc                        48842 non-null  bool  \n",
      " 23   education_Bachelors                        48842 non-null  bool  \n",
      " 24   education_Doctorate                        48842 non-null  bool  \n",
      " 25   education_HS-grad                          48842 non-null  bool  \n",
      " 26   education_Masters                          48842 non-null  bool  \n",
      " 27   education_Preschool                        48842 non-null  bool  \n",
      " 28   education_Prof-school                      48842 non-null  bool  \n",
      " 29   education_Some-college                     48842 non-null  bool  \n",
      " 30   marital_status_Divorced                    48842 non-null  bool  \n",
      " 31   marital_status_Married-AF-spouse           48842 non-null  bool  \n",
      " 32   marital_status_Married-civ-spouse          48842 non-null  bool  \n",
      " 33   marital_status_Married-spouse-absent       48842 non-null  bool  \n",
      " 34   marital_status_Never-married               48842 non-null  bool  \n",
      " 35   marital_status_Separated                   48842 non-null  bool  \n",
      " 36   marital_status_Widowed                     48842 non-null  bool  \n",
      " 37   occupation_?                               48842 non-null  bool  \n",
      " 38   occupation_Adm-clerical                    48842 non-null  bool  \n",
      " 39   occupation_Armed-Forces                    48842 non-null  bool  \n",
      " 40   occupation_Craft-repair                    48842 non-null  bool  \n",
      " 41   occupation_Exec-managerial                 48842 non-null  bool  \n",
      " 42   occupation_Farming-fishing                 48842 non-null  bool  \n",
      " 43   occupation_Handlers-cleaners               48842 non-null  bool  \n",
      " 44   occupation_Machine-op-inspct               48842 non-null  bool  \n",
      " 45   occupation_Other-service                   48842 non-null  bool  \n",
      " 46   occupation_Priv-house-serv                 48842 non-null  bool  \n",
      " 47   occupation_Prof-specialty                  48842 non-null  bool  \n",
      " 48   occupation_Protective-serv                 48842 non-null  bool  \n",
      " 49   occupation_Sales                           48842 non-null  bool  \n",
      " 50   occupation_Tech-support                    48842 non-null  bool  \n",
      " 51   occupation_Transport-moving                48842 non-null  bool  \n",
      " 52   relationship_Husband                       48842 non-null  bool  \n",
      " 53   relationship_Not-in-family                 48842 non-null  bool  \n",
      " 54   relationship_Other-relative                48842 non-null  bool  \n",
      " 55   relationship_Own-child                     48842 non-null  bool  \n",
      " 56   relationship_Unmarried                     48842 non-null  bool  \n",
      " 57   relationship_Wife                          48842 non-null  bool  \n",
      " 58   race_Amer-Indian-Eskimo                    48842 non-null  bool  \n",
      " 59   race_Asian-Pac-Islander                    48842 non-null  bool  \n",
      " 60   race_Black                                 48842 non-null  bool  \n",
      " 61   race_Other                                 48842 non-null  bool  \n",
      " 62   race_White                                 48842 non-null  bool  \n",
      " 63   sex_Female                                 48842 non-null  bool  \n",
      " 64   sex_Male                                   48842 non-null  bool  \n",
      " 65   native_country_?                           48842 non-null  bool  \n",
      " 66   native_country_Cambodia                    48842 non-null  bool  \n",
      " 67   native_country_Canada                      48842 non-null  bool  \n",
      " 68   native_country_China                       48842 non-null  bool  \n",
      " 69   native_country_Columbia                    48842 non-null  bool  \n",
      " 70   native_country_Cuba                        48842 non-null  bool  \n",
      " 71   native_country_Dominican-Republic          48842 non-null  bool  \n",
      " 72   native_country_Ecuador                     48842 non-null  bool  \n",
      " 73   native_country_El-Salvador                 48842 non-null  bool  \n",
      " 74   native_country_England                     48842 non-null  bool  \n",
      " 75   native_country_France                      48842 non-null  bool  \n",
      " 76   native_country_Germany                     48842 non-null  bool  \n",
      " 77   native_country_Greece                      48842 non-null  bool  \n",
      " 78   native_country_Guatemala                   48842 non-null  bool  \n",
      " 79   native_country_Haiti                       48842 non-null  bool  \n",
      " 80   native_country_Holand-Netherlands          48842 non-null  bool  \n",
      " 81   native_country_Honduras                    48842 non-null  bool  \n",
      " 82   native_country_Hong                        48842 non-null  bool  \n",
      " 83   native_country_Hungary                     48842 non-null  bool  \n",
      " 84   native_country_India                       48842 non-null  bool  \n",
      " 85   native_country_Iran                        48842 non-null  bool  \n",
      " 86   native_country_Ireland                     48842 non-null  bool  \n",
      " 87   native_country_Italy                       48842 non-null  bool  \n",
      " 88   native_country_Jamaica                     48842 non-null  bool  \n",
      " 89   native_country_Japan                       48842 non-null  bool  \n",
      " 90   native_country_Laos                        48842 non-null  bool  \n",
      " 91   native_country_Mexico                      48842 non-null  bool  \n",
      " 92   native_country_Nicaragua                   48842 non-null  bool  \n",
      " 93   native_country_Outlying-US(Guam-USVI-etc)  48842 non-null  bool  \n",
      " 94   native_country_Peru                        48842 non-null  bool  \n",
      " 95   native_country_Philippines                 48842 non-null  bool  \n",
      " 96   native_country_Poland                      48842 non-null  bool  \n",
      " 97   native_country_Portugal                    48842 non-null  bool  \n",
      " 98   native_country_Puerto-Rico                 48842 non-null  bool  \n",
      " 99   native_country_Scotland                    48842 non-null  bool  \n",
      " 100  native_country_South                       48842 non-null  bool  \n",
      " 101  native_country_Taiwan                      48842 non-null  bool  \n",
      " 102  native_country_Thailand                    48842 non-null  bool  \n",
      " 103  native_country_Trinadad&Tobago             48842 non-null  bool  \n",
      " 104  native_country_United-States               48842 non-null  bool  \n",
      " 105  native_country_Vietnam                     48842 non-null  bool  \n",
      " 106  native_country_Yugoslavia                  48842 non-null  bool  \n",
      " 107  income                                     48842 non-null  object\n",
      "dtypes: bool(102), int64(5), object(1)\n",
      "memory usage: 7.0+ MB\n"
     ]
    }
   ],
   "source": [
    "import numpy as np\n",
    "df.info(max_cols = np.inf)"
   ]
  },
  {
   "cell_type": "code",
   "execution_count": 150,
   "id": "2ab61693-a274-4ec5-a422-d3760ec2ec31",
   "metadata": {},
   "outputs": [],
   "source": [
    "from sklearn.model_selection import train_test_split\n",
    "df_train, df_test = train_test_split(df,\n",
    "                                    test_size = 0.3,\n",
    "                                    stratify = df['income'],\n",
    "                                    random_state = 1234)"
   ]
  },
  {
   "cell_type": "code",
   "execution_count": 152,
   "id": "88735920-3319-4736-83d4-a2d26ad4a7d9",
   "metadata": {},
   "outputs": [
    {
     "data": {
      "text/plain": [
       "(34189, 108)"
      ]
     },
     "execution_count": 152,
     "metadata": {},
     "output_type": "execute_result"
    }
   ],
   "source": [
    "df_train.shape"
   ]
  },
  {
   "cell_type": "code",
   "execution_count": 154,
   "id": "a8c00d7b-054f-4c24-b494-9de3cff342b8",
   "metadata": {},
   "outputs": [
    {
     "data": {
      "text/plain": [
       "(14653, 108)"
      ]
     },
     "execution_count": 154,
     "metadata": {},
     "output_type": "execute_result"
    }
   ],
   "source": [
    "df_test.shape"
   ]
  },
  {
   "cell_type": "code",
   "execution_count": 156,
   "id": "f554a5b8-4d14-4937-8f82-c83fe3d6f682",
   "metadata": {},
   "outputs": [
    {
     "data": {
      "text/plain": [
       "income\n",
       "low     0.760713\n",
       "high    0.239287\n",
       "Name: proportion, dtype: float64"
      ]
     },
     "execution_count": 156,
     "metadata": {},
     "output_type": "execute_result"
    }
   ],
   "source": [
    "df_train['income'].value_counts(normalize = True)"
   ]
  },
  {
   "cell_type": "code",
   "execution_count": 160,
   "id": "03f493c7-5baa-4c97-9e06-8dcd32d13e63",
   "metadata": {},
   "outputs": [
    {
     "data": {
      "text/plain": [
       "income\n",
       "low     0.760732\n",
       "high    0.239268\n",
       "Name: proportion, dtype: float64"
      ]
     },
     "execution_count": 160,
     "metadata": {},
     "output_type": "execute_result"
    }
   ],
   "source": [
    "df_test['income'].value_counts(normalize = True)\n",
    "\n",
    "#stratify를 설정해둔 덕분에 타켓 변수의 범주별 비율이 유사하다."
   ]
  },
  {
   "cell_type": "code",
   "execution_count": 162,
   "id": "287447c2-1745-4990-8735-4654d41e92e2",
   "metadata": {},
   "outputs": [],
   "source": [
    "from sklearn import tree\n",
    "clf = tree.DecisionTreeClassifier(random_state = 1234,\n",
    "                                 max_depth = 3)"
   ]
  },
  {
   "cell_type": "code",
   "execution_count": 164,
   "id": "babd4a00-1cd1-4438-8508-eab0de2e4115",
   "metadata": {},
   "outputs": [],
   "source": [
    "train_x = df_train.drop(columns = 'income')\n",
    "train_y = df_train['income']\n",
    "\n",
    "model = clf.fit(X = train_x, y=train_y)"
   ]
  },
  {
   "cell_type": "code",
   "execution_count": 166,
   "id": "76927ceb-bc2d-42d7-a6a7-badddc08768b",
   "metadata": {},
   "outputs": [],
   "source": [
    "test_x = df_test.drop(columns = 'income')\n",
    "test_y = df_test['income']"
   ]
  },
  {
   "cell_type": "code",
   "execution_count": 172,
   "id": "14deabdb-e3ac-4387-a1e7-a0dbf080911a",
   "metadata": {},
   "outputs": [
    {
     "data": {
      "text/html": [
       "<div>\n",
       "<style scoped>\n",
       "    .dataframe tbody tr th:only-of-type {\n",
       "        vertical-align: middle;\n",
       "    }\n",
       "\n",
       "    .dataframe tbody tr th {\n",
       "        vertical-align: top;\n",
       "    }\n",
       "\n",
       "    .dataframe thead th {\n",
       "        text-align: right;\n",
       "    }\n",
       "</style>\n",
       "<table border=\"1\" class=\"dataframe\">\n",
       "  <thead>\n",
       "    <tr style=\"text-align: right;\">\n",
       "      <th></th>\n",
       "      <th>age</th>\n",
       "      <th>education_num</th>\n",
       "      <th>capital_gain</th>\n",
       "      <th>capital_loss</th>\n",
       "      <th>hours_per_week</th>\n",
       "      <th>workclass_?</th>\n",
       "      <th>workclass_Federal-gov</th>\n",
       "      <th>workclass_Local-gov</th>\n",
       "      <th>workclass_Never-worked</th>\n",
       "      <th>workclass_Private</th>\n",
       "      <th>...</th>\n",
       "      <th>native_country_Scotland</th>\n",
       "      <th>native_country_South</th>\n",
       "      <th>native_country_Taiwan</th>\n",
       "      <th>native_country_Thailand</th>\n",
       "      <th>native_country_Trinadad&amp;Tobago</th>\n",
       "      <th>native_country_United-States</th>\n",
       "      <th>native_country_Vietnam</th>\n",
       "      <th>native_country_Yugoslavia</th>\n",
       "      <th>income</th>\n",
       "      <th>pred</th>\n",
       "    </tr>\n",
       "  </thead>\n",
       "  <tbody>\n",
       "    <tr>\n",
       "      <th>11712</th>\n",
       "      <td>58</td>\n",
       "      <td>10</td>\n",
       "      <td>0</td>\n",
       "      <td>0</td>\n",
       "      <td>60</td>\n",
       "      <td>False</td>\n",
       "      <td>False</td>\n",
       "      <td>False</td>\n",
       "      <td>False</td>\n",
       "      <td>False</td>\n",
       "      <td>...</td>\n",
       "      <td>False</td>\n",
       "      <td>False</td>\n",
       "      <td>False</td>\n",
       "      <td>False</td>\n",
       "      <td>False</td>\n",
       "      <td>True</td>\n",
       "      <td>False</td>\n",
       "      <td>False</td>\n",
       "      <td>low</td>\n",
       "      <td>low</td>\n",
       "    </tr>\n",
       "    <tr>\n",
       "      <th>24768</th>\n",
       "      <td>39</td>\n",
       "      <td>10</td>\n",
       "      <td>0</td>\n",
       "      <td>0</td>\n",
       "      <td>40</td>\n",
       "      <td>False</td>\n",
       "      <td>False</td>\n",
       "      <td>False</td>\n",
       "      <td>False</td>\n",
       "      <td>True</td>\n",
       "      <td>...</td>\n",
       "      <td>False</td>\n",
       "      <td>False</td>\n",
       "      <td>False</td>\n",
       "      <td>False</td>\n",
       "      <td>False</td>\n",
       "      <td>False</td>\n",
       "      <td>False</td>\n",
       "      <td>False</td>\n",
       "      <td>low</td>\n",
       "      <td>low</td>\n",
       "    </tr>\n",
       "    <tr>\n",
       "      <th>26758</th>\n",
       "      <td>31</td>\n",
       "      <td>4</td>\n",
       "      <td>0</td>\n",
       "      <td>0</td>\n",
       "      <td>20</td>\n",
       "      <td>False</td>\n",
       "      <td>False</td>\n",
       "      <td>False</td>\n",
       "      <td>False</td>\n",
       "      <td>True</td>\n",
       "      <td>...</td>\n",
       "      <td>False</td>\n",
       "      <td>False</td>\n",
       "      <td>False</td>\n",
       "      <td>False</td>\n",
       "      <td>False</td>\n",
       "      <td>True</td>\n",
       "      <td>False</td>\n",
       "      <td>False</td>\n",
       "      <td>low</td>\n",
       "      <td>low</td>\n",
       "    </tr>\n",
       "    <tr>\n",
       "      <th>14295</th>\n",
       "      <td>23</td>\n",
       "      <td>9</td>\n",
       "      <td>0</td>\n",
       "      <td>0</td>\n",
       "      <td>40</td>\n",
       "      <td>False</td>\n",
       "      <td>False</td>\n",
       "      <td>False</td>\n",
       "      <td>False</td>\n",
       "      <td>True</td>\n",
       "      <td>...</td>\n",
       "      <td>False</td>\n",
       "      <td>False</td>\n",
       "      <td>False</td>\n",
       "      <td>False</td>\n",
       "      <td>False</td>\n",
       "      <td>True</td>\n",
       "      <td>False</td>\n",
       "      <td>False</td>\n",
       "      <td>low</td>\n",
       "      <td>low</td>\n",
       "    </tr>\n",
       "    <tr>\n",
       "      <th>3683</th>\n",
       "      <td>24</td>\n",
       "      <td>9</td>\n",
       "      <td>0</td>\n",
       "      <td>0</td>\n",
       "      <td>40</td>\n",
       "      <td>False</td>\n",
       "      <td>False</td>\n",
       "      <td>False</td>\n",
       "      <td>False</td>\n",
       "      <td>True</td>\n",
       "      <td>...</td>\n",
       "      <td>False</td>\n",
       "      <td>False</td>\n",
       "      <td>False</td>\n",
       "      <td>False</td>\n",
       "      <td>False</td>\n",
       "      <td>True</td>\n",
       "      <td>False</td>\n",
       "      <td>False</td>\n",
       "      <td>low</td>\n",
       "      <td>low</td>\n",
       "    </tr>\n",
       "    <tr>\n",
       "      <th>...</th>\n",
       "      <td>...</td>\n",
       "      <td>...</td>\n",
       "      <td>...</td>\n",
       "      <td>...</td>\n",
       "      <td>...</td>\n",
       "      <td>...</td>\n",
       "      <td>...</td>\n",
       "      <td>...</td>\n",
       "      <td>...</td>\n",
       "      <td>...</td>\n",
       "      <td>...</td>\n",
       "      <td>...</td>\n",
       "      <td>...</td>\n",
       "      <td>...</td>\n",
       "      <td>...</td>\n",
       "      <td>...</td>\n",
       "      <td>...</td>\n",
       "      <td>...</td>\n",
       "      <td>...</td>\n",
       "      <td>...</td>\n",
       "      <td>...</td>\n",
       "    </tr>\n",
       "    <tr>\n",
       "      <th>11985</th>\n",
       "      <td>24</td>\n",
       "      <td>13</td>\n",
       "      <td>0</td>\n",
       "      <td>0</td>\n",
       "      <td>30</td>\n",
       "      <td>False</td>\n",
       "      <td>False</td>\n",
       "      <td>False</td>\n",
       "      <td>False</td>\n",
       "      <td>True</td>\n",
       "      <td>...</td>\n",
       "      <td>False</td>\n",
       "      <td>False</td>\n",
       "      <td>False</td>\n",
       "      <td>False</td>\n",
       "      <td>False</td>\n",
       "      <td>True</td>\n",
       "      <td>False</td>\n",
       "      <td>False</td>\n",
       "      <td>low</td>\n",
       "      <td>low</td>\n",
       "    </tr>\n",
       "    <tr>\n",
       "      <th>48445</th>\n",
       "      <td>35</td>\n",
       "      <td>13</td>\n",
       "      <td>10520</td>\n",
       "      <td>0</td>\n",
       "      <td>45</td>\n",
       "      <td>False</td>\n",
       "      <td>False</td>\n",
       "      <td>False</td>\n",
       "      <td>False</td>\n",
       "      <td>True</td>\n",
       "      <td>...</td>\n",
       "      <td>False</td>\n",
       "      <td>False</td>\n",
       "      <td>False</td>\n",
       "      <td>False</td>\n",
       "      <td>False</td>\n",
       "      <td>True</td>\n",
       "      <td>False</td>\n",
       "      <td>False</td>\n",
       "      <td>high</td>\n",
       "      <td>high</td>\n",
       "    </tr>\n",
       "    <tr>\n",
       "      <th>19639</th>\n",
       "      <td>41</td>\n",
       "      <td>9</td>\n",
       "      <td>0</td>\n",
       "      <td>0</td>\n",
       "      <td>40</td>\n",
       "      <td>False</td>\n",
       "      <td>False</td>\n",
       "      <td>False</td>\n",
       "      <td>False</td>\n",
       "      <td>True</td>\n",
       "      <td>...</td>\n",
       "      <td>False</td>\n",
       "      <td>False</td>\n",
       "      <td>False</td>\n",
       "      <td>False</td>\n",
       "      <td>False</td>\n",
       "      <td>True</td>\n",
       "      <td>False</td>\n",
       "      <td>False</td>\n",
       "      <td>high</td>\n",
       "      <td>low</td>\n",
       "    </tr>\n",
       "    <tr>\n",
       "      <th>21606</th>\n",
       "      <td>29</td>\n",
       "      <td>4</td>\n",
       "      <td>0</td>\n",
       "      <td>0</td>\n",
       "      <td>30</td>\n",
       "      <td>False</td>\n",
       "      <td>False</td>\n",
       "      <td>False</td>\n",
       "      <td>False</td>\n",
       "      <td>True</td>\n",
       "      <td>...</td>\n",
       "      <td>False</td>\n",
       "      <td>False</td>\n",
       "      <td>False</td>\n",
       "      <td>False</td>\n",
       "      <td>False</td>\n",
       "      <td>False</td>\n",
       "      <td>False</td>\n",
       "      <td>False</td>\n",
       "      <td>low</td>\n",
       "      <td>low</td>\n",
       "    </tr>\n",
       "    <tr>\n",
       "      <th>3822</th>\n",
       "      <td>31</td>\n",
       "      <td>13</td>\n",
       "      <td>0</td>\n",
       "      <td>0</td>\n",
       "      <td>40</td>\n",
       "      <td>False</td>\n",
       "      <td>False</td>\n",
       "      <td>False</td>\n",
       "      <td>False</td>\n",
       "      <td>True</td>\n",
       "      <td>...</td>\n",
       "      <td>False</td>\n",
       "      <td>False</td>\n",
       "      <td>False</td>\n",
       "      <td>False</td>\n",
       "      <td>False</td>\n",
       "      <td>True</td>\n",
       "      <td>False</td>\n",
       "      <td>False</td>\n",
       "      <td>low</td>\n",
       "      <td>low</td>\n",
       "    </tr>\n",
       "  </tbody>\n",
       "</table>\n",
       "<p>14653 rows × 109 columns</p>\n",
       "</div>"
      ],
      "text/plain": [
       "       age  education_num  capital_gain  capital_loss  hours_per_week  \\\n",
       "11712   58             10             0             0              60   \n",
       "24768   39             10             0             0              40   \n",
       "26758   31              4             0             0              20   \n",
       "14295   23              9             0             0              40   \n",
       "3683    24              9             0             0              40   \n",
       "...    ...            ...           ...           ...             ...   \n",
       "11985   24             13             0             0              30   \n",
       "48445   35             13         10520             0              45   \n",
       "19639   41              9             0             0              40   \n",
       "21606   29              4             0             0              30   \n",
       "3822    31             13             0             0              40   \n",
       "\n",
       "       workclass_?  workclass_Federal-gov  workclass_Local-gov  \\\n",
       "11712        False                  False                False   \n",
       "24768        False                  False                False   \n",
       "26758        False                  False                False   \n",
       "14295        False                  False                False   \n",
       "3683         False                  False                False   \n",
       "...            ...                    ...                  ...   \n",
       "11985        False                  False                False   \n",
       "48445        False                  False                False   \n",
       "19639        False                  False                False   \n",
       "21606        False                  False                False   \n",
       "3822         False                  False                False   \n",
       "\n",
       "       workclass_Never-worked  workclass_Private  ...  \\\n",
       "11712                   False              False  ...   \n",
       "24768                   False               True  ...   \n",
       "26758                   False               True  ...   \n",
       "14295                   False               True  ...   \n",
       "3683                    False               True  ...   \n",
       "...                       ...                ...  ...   \n",
       "11985                   False               True  ...   \n",
       "48445                   False               True  ...   \n",
       "19639                   False               True  ...   \n",
       "21606                   False               True  ...   \n",
       "3822                    False               True  ...   \n",
       "\n",
       "       native_country_Scotland  native_country_South  native_country_Taiwan  \\\n",
       "11712                    False                 False                  False   \n",
       "24768                    False                 False                  False   \n",
       "26758                    False                 False                  False   \n",
       "14295                    False                 False                  False   \n",
       "3683                     False                 False                  False   \n",
       "...                        ...                   ...                    ...   \n",
       "11985                    False                 False                  False   \n",
       "48445                    False                 False                  False   \n",
       "19639                    False                 False                  False   \n",
       "21606                    False                 False                  False   \n",
       "3822                     False                 False                  False   \n",
       "\n",
       "       native_country_Thailand  native_country_Trinadad&Tobago  \\\n",
       "11712                    False                           False   \n",
       "24768                    False                           False   \n",
       "26758                    False                           False   \n",
       "14295                    False                           False   \n",
       "3683                     False                           False   \n",
       "...                        ...                             ...   \n",
       "11985                    False                           False   \n",
       "48445                    False                           False   \n",
       "19639                    False                           False   \n",
       "21606                    False                           False   \n",
       "3822                     False                           False   \n",
       "\n",
       "       native_country_United-States  native_country_Vietnam  \\\n",
       "11712                          True                   False   \n",
       "24768                         False                   False   \n",
       "26758                          True                   False   \n",
       "14295                          True                   False   \n",
       "3683                           True                   False   \n",
       "...                             ...                     ...   \n",
       "11985                          True                   False   \n",
       "48445                          True                   False   \n",
       "19639                          True                   False   \n",
       "21606                         False                   False   \n",
       "3822                           True                   False   \n",
       "\n",
       "       native_country_Yugoslavia  income  pred  \n",
       "11712                      False     low   low  \n",
       "24768                      False     low   low  \n",
       "26758                      False     low   low  \n",
       "14295                      False     low   low  \n",
       "3683                       False     low   low  \n",
       "...                          ...     ...   ...  \n",
       "11985                      False     low   low  \n",
       "48445                      False    high  high  \n",
       "19639                      False    high   low  \n",
       "21606                      False     low   low  \n",
       "3822                       False     low   low  \n",
       "\n",
       "[14653 rows x 109 columns]"
      ]
     },
     "execution_count": 172,
     "metadata": {},
     "output_type": "execute_result"
    }
   ],
   "source": [
    "df_test['pred'] = model.predict(test_x)\n",
    "df_test"
   ]
  },
  {
   "cell_type": "code",
   "execution_count": 174,
   "id": "3ecc449f-3110-4e33-b723-fc6859f80986",
   "metadata": {},
   "outputs": [
    {
     "data": {
      "text/plain": [
       "array([[ 1801,  1705],\n",
       "       [  582, 10565]])"
      ]
     },
     "execution_count": 174,
     "metadata": {},
     "output_type": "execute_result"
    }
   ],
   "source": [
    "from sklearn.metrics import confusion_matrix\n",
    "conf_mat = confusion_matrix(y_true = df_test['income'],\n",
    "                           y_pred = df_test['pred'],\n",
    "                           labels = ['high', 'low'])\n",
    "conf_mat"
   ]
  },
  {
   "cell_type": "code",
   "execution_count": 184,
   "id": "9d952f14-c853-48da-a95e-d47c4bf7fa85",
   "metadata": {},
   "outputs": [
    {
     "data": {
      "text/plain": [
       "<sklearn.metrics._plot.confusion_matrix.ConfusionMatrixDisplay at 0x2934f1670>"
      ]
     },
     "execution_count": 184,
     "metadata": {},
     "output_type": "execute_result"
    },
    {
     "data": {
      "image/png": "[encoded data removed]",
      "text/plain": [
       "<Figure size 640x480 with 2 Axes>"
      ]
     },
     "metadata": {},
     "output_type": "display_data"
    }
   ],
   "source": [
    "import matplotlib.pyplot as plt\n",
    "\n",
    "from sklearn.metrics import ConfusionMatrixDisplay\n",
    "p = ConfusionMatrixDisplay(confusion_matrix = conf_mat,\n",
    "                          display_labels = ('high', 'low'))\n",
    "\n",
    "p.plot(cmap = 'Blues')"
   ]
  },
  {
   "cell_type": "code",
   "execution_count": 186,
   "id": "8d1e0ca5-790f-43ff-9bd0-788712093d1e",
   "metadata": {},
   "outputs": [],
   "source": [
    "#confusion matrix에서 행은 실제 빈도, 열은 모델이 예측한 빈도 의미"
   ]
  },
  {
   "cell_type": "code",
   "execution_count": 188,
   "id": "0444daba-3d52-4525-a33f-71e3731bf571",
   "metadata": {},
   "outputs": [
    {
     "data": {
      "text/plain": [
       "0.8439227461953184"
      ]
     },
     "execution_count": 188,
     "metadata": {},
     "output_type": "execute_result"
    }
   ],
   "source": [
    "#성능 평가 지표 구하기\n",
    "#1. accuracy 구하기\n",
    "\n",
    "import sklearn.metrics as metrics\n",
    "metrics.accuracy_score(y_true = df_test['income'],\n",
    "                      y_pred = df_test['pred'])"
   ]
  },
  {
   "cell_type": "code",
   "execution_count": 194,
   "id": "e704d851-5922-4b30-bcd8-9c814cd72b0c",
   "metadata": {},
   "outputs": [
    {
     "data": {
      "text/plain": [
       "0.7557700377675199"
      ]
     },
     "execution_count": 194,
     "metadata": {},
     "output_type": "execute_result"
    }
   ],
   "source": [
    "#2. precision 구하기\n",
    "\n",
    "metrics.precision_score(y_true = df_test['income'],\n",
    "                      y_pred = df_test['pred'],\n",
    "                      pos_label = 'high')"
   ]
  },
  {
   "cell_type": "code",
   "execution_count": 198,
   "id": "709c4c63-cfa1-4dde-9523-7d2f0b11c386",
   "metadata": {},
   "outputs": [
    {
     "data": {
      "text/plain": [
       "0.5136908157444381"
      ]
     },
     "execution_count": 198,
     "metadata": {},
     "output_type": "execute_result"
    }
   ],
   "source": [
    "#3. recall 구하기\n",
    "metrics.recall_score(y_true = df_test['income'],\n",
    "                    y_pred = df_test['pred'],\n",
    "                    pos_label = 'high')"
   ]
  },
  {
   "cell_type": "code",
   "execution_count": 201,
   "id": "bcebaf2c-5dc3-4208-bc76-0ccedcff2178",
   "metadata": {},
   "outputs": [
    {
     "data": {
      "text/plain": [
       "0.6116488368143997"
      ]
     },
     "execution_count": 201,
     "metadata": {},
     "output_type": "execute_result"
    }
   ],
   "source": [
    "#F1 score - recall과 precision의 조화평균\n",
    "\n",
    "metrics.f1_score(y_true = df_test['income'],\n",
    "                y_pred = df_test['pred'],\n",
    "                pos_label = 'high')"
   ]
  },
  {
   "cell_type": "code",
   "execution_count": null,
   "id": "3febdd60-8d8f-4f8e-8de9-ec72f61117ca",
   "metadata": {},
   "outputs": [],
   "source": []
  }
 ],
 "metadata": {
  "kernelspec": {
   "display_name": "Python 3 (ipykernel)",
   "language": "python",
   "name": "python3"
  },
  "language_info": {
   "codemirror_mode": {
    "name": "ipython",
    "version": 3
   },
   "file_extension": ".py",
   "mimetype": "text/x-python",
   "name": "python",
   "nbconvert_exporter": "python",
   "pygments_lexer": "ipython3",
   "version": "3.12.4"
  }
 },
 "nbformat": 4,
 "nbformat_minor": 5
}
